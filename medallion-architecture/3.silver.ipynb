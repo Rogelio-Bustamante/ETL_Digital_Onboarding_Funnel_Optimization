{
 "cells": [
  {
   "cell_type": "markdown",
   "metadata": {
    "application/vnd.databricks.v1+cell": {
     "cellMetadata": {},
     "inputWidgets": {},
     "nuid": "08eb28bd-fe5f-4e6d-9a3a-f80765326984",
     "showTitle": false,
     "tableResultSettingsMap": {},
     "title": ""
    }
   },
   "source": [
    "##Data Enrich"
   ]
  },
  {
   "cell_type": "markdown",
   "metadata": {
    "application/vnd.databricks.v1+cell": {
     "cellMetadata": {},
     "inputWidgets": {},
     "nuid": "db3bfbcf-cc29-4cce-837a-afa19fe45074",
     "showTitle": false,
     "tableResultSettingsMap": {},
     "title": ""
    }
   },
   "source": [
    "####Creating Table"
   ]
  },
  {
   "cell_type": "code",
   "execution_count": 0,
   "metadata": {
    "application/vnd.databricks.v1+cell": {
     "cellMetadata": {
      "byteLimit": 2048000,
      "rowLimit": 10000
     },
     "inputWidgets": {},
     "nuid": "068fa1e6-b3fd-4586-b6bf-217c11bb2f9d",
     "showTitle": false,
     "tableResultSettingsMap": {},
     "title": ""
    }
   },
   "outputs": [],
   "source": [
    "---DROP TABLE IF EXISTS digital_funnel.gold.clientesfunnel;\n",
    "---DROP TABLE IF EXISTS digital_funnel.gold.pv_clientesfunnel;"
   ]
  },
  {
   "cell_type": "code",
   "execution_count": 0,
   "metadata": {
    "application/vnd.databricks.v1+cell": {
     "cellMetadata": {
      "byteLimit": 2048000,
      "rowLimit": 10000
     },
     "inputWidgets": {},
     "nuid": "c007ecab-f633-4fb0-a641-a147b1a5a7cf",
     "showTitle": false,
     "tableResultSettingsMap": {},
     "title": ""
    }
   },
   "outputs": [],
   "source": [
    "---Table for the JOIN between clientes and funneldata\n",
    "CREATE TABLE IF NOT EXISTS digital_funnel.gold.clientesfunnel\n",
    "(\n",
    "  cliente_id STRING,\n",
    "  nombre STRING,\n",
    "  edad INT,\n",
    "  estado STRING,\n",
    "  correo STRING,\n",
    "  app STRING,\n",
    "  stage STRING,\n",
    "  stage_date DATE,\n",
    "  proceso_completo INT,\n",
    "  quality_check STRING,\n",
    "  ingestion_time TIMESTAMP\n",
    ")\n",
    "LOCATION 'abfss://gold@firstprojectdlucext.dfs.core.windows.net/clientesfunnel/';"
   ]
  },
  {
   "cell_type": "code",
   "execution_count": 0,
   "metadata": {
    "application/vnd.databricks.v1+cell": {
     "cellMetadata": {
      "byteLimit": 2048000,
      "rowLimit": 10000
     },
     "inputWidgets": {},
     "nuid": "52c63a61-0335-496c-9865-cd4785864f41",
     "showTitle": false,
     "tableResultSettingsMap": {},
     "title": ""
    }
   },
   "outputs": [],
   "source": [
    "---Table for the pivoted stages and stages date\n",
    "CREATE TABLE IF NOT EXISTS digital_funnel.gold.pv_clientesfunnel\n",
    "(\n",
    "  cliente_id STRING,\n",
    "  proceso_completo INT,\n",
    "  nombre STRING,\n",
    "  edad INT,\n",
    "  estado STRING,\n",
    "  correo STRING,\n",
    "  app STRING,\n",
    "  introduccion DATE, \n",
    "  solicitud_de_datos DATE, \n",
    "  validacion_de_datos DATE, \n",
    "  reconocimiento_facial DATE,\n",
    "  firma DATE, \n",
    "  confirmacion_de_datos DATE,\n",
    "  ingestion_time TIMESTAMP, \n",
    "  updated_date TIMESTAMP \n",
    ")\n",
    "LOCATION 'abfss://gold@firstprojectdlucext.dfs.core.windows.net/pv_clientesfunnel/';"
   ]
  },
  {
   "cell_type": "markdown",
   "metadata": {
    "application/vnd.databricks.v1+cell": {
     "cellMetadata": {},
     "inputWidgets": {},
     "nuid": "b6e3a263-114e-4731-9c70-96cd30d36b02",
     "showTitle": false,
     "tableResultSettingsMap": {},
     "title": ""
    }
   },
   "source": [
    "####Data Validation & Enrichment"
   ]
  },
  {
   "cell_type": "code",
   "execution_count": 0,
   "metadata": {
    "application/vnd.databricks.v1+cell": {
     "cellMetadata": {
      "byteLimit": 2048000,
      "rowLimit": 10000
     },
     "inputWidgets": {},
     "nuid": "3fdedd35-dd4b-4512-88f6-7c17c78cac7c",
     "showTitle": false,
     "tableResultSettingsMap": {},
     "title": ""
    }
   },
   "outputs": [],
   "source": [
    "---JOIN between catalogdata and funneldata\n",
    "CREATE OR REPLACE TEMP VIEW clientes_funnel\n",
    "AS\n",
    "SELECT fv.cliente_id,\n",
    "       cd.nombre,\n",
    "       cd.edad,\n",
    "       cd.estado,\n",
    "       cd.correo,\n",
    "       fv.app,\n",
    "       fv.stage,\n",
    "       fv.stage_date,\n",
    "       fv.proceso_completo,\n",
    "       fv.quality_check\n",
    "FROM (SELECT cliente_id,\n",
    "       app,\n",
    "       stage,\n",
    "       stage_date,\n",
    "       proceso_completo,\n",
    "         CASE\n",
    "             WHEN LENGTH(cliente_id) == 5 AND (proceso_completo == 0 OR proceso_completo == 1) THEN 'Passed'\n",
    "             ELSE 'Not passed'\n",
    "             END AS quality_check\n",
    "      FROM digital_funnel.silver.FunnelData) AS fv\n",
    "JOIN digital_funnel.silver.catalogdata AS cd ON (fv.cliente_id = cd.cliente_id);"
   ]
  },
  {
   "cell_type": "code",
   "execution_count": 0,
   "metadata": {
    "application/vnd.databricks.v1+cell": {
     "cellMetadata": {
      "byteLimit": 2048000,
      "rowLimit": 10000
     },
     "inputWidgets": {},
     "nuid": "55b70932-a0ae-41d5-9318-e52d9be2ea6c",
     "showTitle": false,
     "tableResultSettingsMap": {},
     "title": ""
    }
   },
   "outputs": [],
   "source": [
    "--- Pivot stages and stages date\n",
    "CREATE OR REPLACE TEMP VIEW clientesfunnel_pivot\n",
    "AS\n",
    "SELECT *\n",
    "FROM (\n",
    "    SELECT cliente_id, proceso_completo, nombre, edad, estado, correo, app, stage, stage_date\n",
    "    FROM digital_funnel.gold.clientesfunnel\n",
    ")\n",
    "PIVOT (\n",
    "    MAX(stage_date)\n",
    "    FOR stage IN (\"Introduccion\" AS introduccion, \"Solicitud de datos\" AS solicitud_de_datos, \"Validacion de datos\" AS validacion_de_datos, \"Reconocimiento facial\" AS reconocimiento_facial, \"Firma\" AS firma, \"Confirmacion de datos\" AS confirmacion_de_datos)\n",
    ")\n",
    "ORDER BY cliente_id;\n",
    "\n",
    "SELECT * FROM clientesfunnel_pivot;"
   ]
  },
  {
   "cell_type": "markdown",
   "metadata": {
    "application/vnd.databricks.v1+cell": {
     "cellMetadata": {},
     "inputWidgets": {},
     "nuid": "a2e885c1-aad2-46f5-9b70-bc10072eaf46",
     "showTitle": false,
     "tableResultSettingsMap": {},
     "title": ""
    }
   },
   "source": [
    "####Ingesting into gold"
   ]
  },
  {
   "cell_type": "code",
   "execution_count": 0,
   "metadata": {
    "application/vnd.databricks.v1+cell": {
     "cellMetadata": {
      "byteLimit": 2048000,
      "rowLimit": 10000
     },
     "inputWidgets": {},
     "nuid": "18855dd9-f575-4a21-bca5-0e343922f9a8",
     "showTitle": false,
     "tableResultSettingsMap": {},
     "title": ""
    }
   },
   "outputs": [],
   "source": [
    "MERGE INTO digital_funnel.gold.clientesfunnel AS tgt\n",
    "USING clientes_funnel AS src\n",
    "ON (tgt.cliente_id = src.cliente_id AND tgt.stage = src.stage)\n",
    "WHEN NOT MATCHED THEN\n",
    "  INSERT (tgt.cliente_id, tgt.nombre, tgt.edad, tgt.estado, tgt.correo, tgt.app, tgt.stage, tgt.stage_date, tgt.proceso_completo, tgt.quality_check, tgt.ingestion_time)\n",
    "  VALUES (src.cliente_id, src.nombre, src.edad, src.estado, src.correo, src.app, src.stage, src.stage_date, src.proceso_completo, src.quality_check, current_timestamp);\n",
    "---PARTITIONED BY (race_year)"
   ]
  },
  {
   "cell_type": "code",
   "execution_count": 0,
   "metadata": {
    "application/vnd.databricks.v1+cell": {
     "cellMetadata": {
      "byteLimit": 2048000,
      "rowLimit": 10000
     },
     "inputWidgets": {},
     "nuid": "06f324cb-e584-4b05-8b69-9fe53ea0eefd",
     "showTitle": false,
     "tableResultSettingsMap": {},
     "title": ""
    }
   },
   "outputs": [],
   "source": [
    "MERGE INTO digital_funnel.gold.pv_clientesfunnel AS tgt\n",
    "USING clientesfunnel_pivot AS src\n",
    "ON (tgt.cliente_id = src.cliente_id)\n",
    "WHEN MATCHED THEN\n",
    "  UPDATE SET tgt.nombre = src.nombre,\n",
    "             tgt.correo = src.correo,\n",
    "             tgt.edad = src.edad,\n",
    "             tgt.estado = src.estado,\n",
    "             tgt.updated_date = current_timestamp\n",
    "WHEN NOT MATCHED THEN\n",
    "  INSERT (tgt.cliente_id, tgt.proceso_completo, tgt.nombre, tgt.edad, tgt.estado, tgt.correo, tgt.app, tgt.introduccion, tgt.solicitud_de_datos, tgt.validacion_de_datos, tgt.reconocimiento_facial, tgt.firma, tgt.confirmacion_de_datos, tgt.ingestion_time)\n",
    "  VALUES (src.cliente_id, src.proceso_completo, src.nombre, src.edad, src.estado, src.correo, src.app, src.introduccion, src.solicitud_de_datos, src.validacion_de_datos, src.reconocimiento_facial, src.firma, src.confirmacion_de_datos, current_timestamp);\n",
    "---PARTITIONED BY (race_year)"
   ]
  },
  {
   "cell_type": "code",
   "execution_count": 0,
   "metadata": {
    "application/vnd.databricks.v1+cell": {
     "cellMetadata": {
      "byteLimit": 2048000,
      "rowLimit": 10000
     },
     "inputWidgets": {},
     "nuid": "d21803dd-befc-40ad-8426-f10c30b86e49",
     "showTitle": false,
     "tableResultSettingsMap": {},
     "title": ""
    }
   },
   "outputs": [],
   "source": [
    "SELECT * FROM digital_funnel.gold.pv_clientesfunnel;"
   ]
  },
  {
   "cell_type": "markdown",
   "metadata": {
    "application/vnd.databricks.v1+cell": {
     "cellMetadata": {},
     "inputWidgets": {},
     "nuid": "0d0c91e3-42d6-4c03-a8e8-54ea92130953",
     "showTitle": false,
     "tableResultSettingsMap": {},
     "title": ""
    }
   },
   "source": [
    "####Calculations"
   ]
  },
  {
   "cell_type": "code",
   "execution_count": 0,
   "metadata": {
    "application/vnd.databricks.v1+cell": {
     "cellMetadata": {
      "byteLimit": 2048000,
      "rowLimit": 10000
     },
     "inputWidgets": {},
     "nuid": "8b93a6aa-a0a2-4031-ba0c-da4c4f50f8b8",
     "showTitle": false,
     "tableResultSettingsMap": {},
     "title": ""
    }
   },
   "outputs": [],
   "source": [
    "---Clients that finished all stages\n",
    "SELECT COUNT(*) FROM digital_funnel.gold.pv_clientesfunnel WHERE proceso_completo = 1;"
   ]
  },
  {
   "cell_type": "code",
   "execution_count": 0,
   "metadata": {
    "application/vnd.databricks.v1+cell": {
     "cellMetadata": {
      "byteLimit": 2048000,
      "rowLimit": 10000
     },
     "inputWidgets": {},
     "nuid": "61a4f50a-9196-484e-949f-0ac2aace9f2a",
     "showTitle": false,
     "tableResultSettingsMap": {},
     "title": ""
    }
   },
   "outputs": [],
   "source": [
    "---Clients that finished all stages. Note that 60 clients only have done the last stage. This clients will been considered as clients tha finished all stages. \n",
    "SELECT COUNT(*) FROM digital_funnel.gold.pv_clientesfunnel WHERE proceso_completo = 0;"
   ]
  },
  {
   "cell_type": "code",
   "execution_count": 0,
   "metadata": {
    "application/vnd.databricks.v1+cell": {
     "cellMetadata": {
      "byteLimit": 2048000,
      "rowLimit": 10000
     },
     "inputWidgets": {},
     "nuid": "c64bf10b-6c3a-4ee8-8c94-00ba8f0c0678",
     "showTitle": false,
     "tableResultSettingsMap": {},
     "title": ""
    }
   },
   "outputs": [],
   "source": [
    "---Total time between the first and last stage for each client\n",
    "SELECT cliente_id, \n",
    "       proceso_completo,\n",
    "       DATEDIFF(confirmacion_de_datos, introduccion) AS dias_totales\n",
    "  FROM digital_funnel.gold.pv_clientesfunnel\n",
    " WHERE proceso_completo = 1;"
   ]
  },
  {
   "cell_type": "code",
   "execution_count": 0,
   "metadata": {
    "application/vnd.databricks.v1+cell": {
     "cellMetadata": {},
     "inputWidgets": {},
     "nuid": "d8160169-969c-4f0f-bfae-3d33053c4a85",
     "showTitle": false,
     "tableResultSettingsMap": {},
     "title": ""
    }
   },
   "outputs": [],
   "source": [
    "---Most frequent abandonment stage\n",
    "SELECT COUNT(introduccion) AS TI,\n",
    "       COUNT(solicitud_de_datos) AS TSD,\n",
    "       COUNT(validacion_de_datos) AS TVD,\n",
    "       COUNT(reconocimiento_facial) AS TRF,\n",
    "       COUNT(firma) AS TF,\n",
    "       COUNT(confirmacion_de_datos) AS TCD\n",
    "  FROM (SELECT * FROM digital_funnel.gold.pv_clientesfunnel WHERE proceso_completo = 0);"
   ]
  },
  {
   "cell_type": "code",
   "execution_count": 0,
   "metadata": {
    "application/vnd.databricks.v1+cell": {
     "cellMetadata": {
      "byteLimit": 2048000,
      "rowLimit": 10000
     },
     "inputWidgets": {},
     "nuid": "dc688164-ddc1-4a46-ad5e-f432515680a1",
     "showTitle": false,
     "tableResultSettingsMap": {},
     "title": ""
    }
   },
   "outputs": [],
   "source": [
    "---Most frequent abandonment stage\n",
    "SELECT COUNT(CASE WHEN solicitud_de_datos IS NULL AND\n",
    "                       validacion_de_datos IS NULL AND\n",
    "                       reconocimiento_facial IS NULL AND\n",
    "                       firma IS NULL AND\n",
    "                       confirmacion_de_datos IS NULL \n",
    "                  THEN 1 END) AS TI,\n",
    "       COUNT(CASE WHEN  solicitud_de_datos IS NOT NULL AND\n",
    "                        validacion_de_datos IS NULL AND\n",
    "                        reconocimiento_facial IS NULL AND\n",
    "                        firma IS NULL AND\n",
    "                        confirmacion_de_datos IS NULL \n",
    "                  THEN 1 END) AS TSD,\n",
    "       COUNT(CASE WHEN  validacion_de_datos IS NOT NULL AND\n",
    "                        reconocimiento_facial IS NULL AND\n",
    "                        firma IS NULL AND\n",
    "                        confirmacion_de_datos IS NULL \n",
    "                  THEN 1 END) AS TVD,\n",
    "       COUNT(CASE WHEN  reconocimiento_facial IS NOT NULL AND\n",
    "                        firma IS NULL AND\n",
    "                        confirmacion_de_datos IS NULL \n",
    "                  THEN 1 END) AS TRF,\n",
    "       COUNT(CASE WHEN  firma IS NOT NULL AND\n",
    "                        confirmacion_de_datos IS NULL \n",
    "                  THEN 1 END) AS TF,\n",
    "       COUNT(CASE WHEN  confirmacion_de_datos IS NOT NULL \n",
    "                  THEN 1 END) AS TCD\n",
    "  FROM (SELECT * FROM digital_funnel.gold.pv_clientesfunnel WHERE proceso_completo = 0);"
   ]
  }
 ],
 "metadata": {
  "application/vnd.databricks.v1+notebook": {
   "computePreferences": null,
   "dashboards": [],
   "environmentMetadata": {
    "base_environment": "",
    "environment_version": "2"
   },
   "inputWidgetPreferences": null,
   "language": "sql",
   "notebookMetadata": {
    "pythonIndentUnit": 4
   },
   "notebookName": "3.silver",
   "widgets": {}
  },
  "language_info": {
   "name": "sql"
  }
 },
 "nbformat": 4,
 "nbformat_minor": 0
}
