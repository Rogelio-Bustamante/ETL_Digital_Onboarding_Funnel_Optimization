{
 "cells": [
  {
   "cell_type": "markdown",
   "metadata": {
    "application/vnd.databricks.v1+cell": {
     "cellMetadata": {},
     "inputWidgets": {},
     "nuid": "ad28e465-a67a-454d-b1f2-bd4663de42c0",
     "showTitle": false,
     "tableResultSettingsMap": {},
     "title": ""
    }
   },
   "source": [
    "##Funnel volumes to tables"
   ]
  },
  {
   "cell_type": "code",
   "execution_count": 0,
   "metadata": {
    "application/vnd.databricks.v1+cell": {
     "cellMetadata": {
      "byteLimit": 2048000,
      "implicitDf": true,
      "rowLimit": 10000
     },
     "inputWidgets": {},
     "nuid": "62d977eb-8d45-4421-bc1a-e5c9fc0b231d",
     "showTitle": false,
     "tableResultSettingsMap": {},
     "title": ""
    }
   },
   "outputs": [],
   "source": [
    "%sql\n",
    "USE CATALOG digital_funnel;\n",
    "USE SCHEMA landing;\n",
    "CREATE EXTERNAL VOLUME IF NOT EXISTS digital_funnel.landing.dataset_volume\n",
    "LOCATION 'abfss://landing@firstprojectdlucext.dfs.core.windows.net/dataset';"
   ]
  },
  {
   "cell_type": "markdown",
   "metadata": {
    "application/vnd.databricks.v1+cell": {
     "cellMetadata": {},
     "inputWidgets": {},
     "nuid": "875ad547-9335-46f7-aa96-025b79495fa7",
     "showTitle": false,
     "tableResultSettingsMap": {},
     "title": ""
    }
   },
   "source": [
    "####Converting dataset volumes in tables into bronze using SQL (Ingest raw data into bronze -still raw-)\n",
    "1. usuarios_banco_con_funnel\n",
    "2. clientes"
   ]
  },
  {
   "cell_type": "code",
   "execution_count": 0,
   "metadata": {
    "application/vnd.databricks.v1+cell": {
     "cellMetadata": {
      "byteLimit": 2048000,
      "implicitDf": true,
      "rowLimit": 10000
     },
     "inputWidgets": {},
     "nuid": "11c0bf0e-3d52-4998-a093-ab917c13b094",
     "showTitle": false,
     "tableResultSettingsMap": {},
     "title": ""
    }
   },
   "outputs": [],
   "source": [
    "%sql\n",
    "---DROP TABLE IF EXISTS digital_funnel.bronze.clientes;\n",
    "---DROP TABLE IF EXISTS digital_funnel.bronze.usuarios_banco_con_funnel;"
   ]
  },
  {
   "cell_type": "code",
   "execution_count": 0,
   "metadata": {
    "application/vnd.databricks.v1+cell": {
     "cellMetadata": {
      "byteLimit": 2048000,
      "rowLimit": 10000
     },
     "inputWidgets": {},
     "nuid": "b29d9218-9456-4e73-a2d8-f0a719fb95a3",
     "showTitle": false,
     "tableResultSettingsMap": {},
     "title": ""
    }
   },
   "outputs": [],
   "source": [
    "def volume_to_table_dup(name, merge_condition):\n",
    "\n",
    "  input_source_path = f'/Volumes/digital_funnel/landing/dataset_volume/{name}.csv'\n",
    "  df = spark.read.format('csv').option('header', 'true').load(input_source_path)\n",
    "  table_schema = df.schema\n",
    "  table_schema = \", \".join([f\"{field.name} {field.dataType.typeName()}\" for field in table_schema])\n",
    "  df.createOrReplaceTempView(f'{name}_increment')\n",
    "  spark.sql(f\"\"\"CREATE TABLE IF NOT EXISTS digital_funnel.bronze.{name} ({table_schema})\n",
    "                LOCATION 'abfss://bronze@firstprojectdlucext.dfs.core.windows.net/usuarios_banco_con_funnel/'\"\"\")\n",
    "\n",
    "  spark.sql(f\"\"\"MERGE INTO digital_funnel.bronze.{name} AS tgt\n",
    "                USING {name}_increment AS src\n",
    "                ON ({merge_condition})\n",
    "                WHEN NOT MATCHED THEN\n",
    "                  INSERT *\"\"\")\n",
    "  ###PARTITIONED BY (stage)\n",
    "\n",
    "volume_to_table_dup(\"usuarios_banco_con_funnel\", \"tgt.ID_cliente = src.ID_cliente AND tgt.stage = src.stage\") "
   ]
  },
  {
   "cell_type": "code",
   "execution_count": 0,
   "metadata": {
    "application/vnd.databricks.v1+cell": {
     "cellMetadata": {
      "byteLimit": 2048000,
      "rowLimit": 10000
     },
     "inputWidgets": {},
     "nuid": "d71795d3-688e-41c4-855a-4059289a8b0a",
     "showTitle": false,
     "tableResultSettingsMap": {},
     "title": ""
    }
   },
   "outputs": [],
   "source": [
    "def volume_to_table(name, merge_condition):\n",
    "\n",
    "  input_source_path = f'/Volumes/digital_funnel/landing/dataset_volume/{name}.csv'\n",
    "  df = spark.read.format('csv').option('header', 'true').load(input_source_path)\n",
    "  table_schema = df.schema\n",
    "  table_schema = \", \".join([f\"{field.name} {field.dataType.typeName()}\" for field in table_schema])\n",
    "  df.createOrReplaceTempView(f'{name}_increment')\n",
    "  spark.sql(f\"\"\"CREATE TABLE IF NOT EXISTS digital_funnel.bronze.{name} ({table_schema})\n",
    "                LOCATION 'abfss://bronze@firstprojectdlucext.dfs.core.windows.net/clientes/'\"\"\")\n",
    "\n",
    "  spark.sql(f\"\"\"MERGE INTO digital_funnel.bronze.{name}  AS tgt\n",
    "               USING {name}_increment AS src\n",
    "               ON ({merge_condition})\n",
    "               WHEN MATCHED THEN\n",
    "                 UPDATE SET *\n",
    "               WHEN NOT MATCHED THEN\n",
    "                 INSERT *\"\"\")\n",
    "  \n",
    "volume_to_table(\"clientes\", \"tgt.ID_cliente = src.ID_cliente\") "
   ]
  },
  {
   "cell_type": "code",
   "execution_count": 0,
   "metadata": {
    "application/vnd.databricks.v1+cell": {
     "cellMetadata": {
      "byteLimit": 2048000,
      "implicitDf": true,
      "rowLimit": 10000
     },
     "inputWidgets": {},
     "nuid": "787e9a6d-45ce-499f-a611-6476fe12f529",
     "showTitle": false,
     "tableResultSettingsMap": {},
     "title": ""
    }
   },
   "outputs": [],
   "source": [
    "%sql\n",
    "SELECT * FROM digital_funnel.bronze.usuarios_banco_con_funnel;"
   ]
  },
  {
   "cell_type": "code",
   "execution_count": 0,
   "metadata": {
    "application/vnd.databricks.v1+cell": {
     "cellMetadata": {},
     "inputWidgets": {},
     "nuid": "c84f5263-df1d-4c16-a810-c39e537bc6c3",
     "showTitle": false,
     "tableResultSettingsMap": {},
     "title": ""
    }
   },
   "outputs": [],
   "source": [
    "##table_names = []\n",
    "##for file_info in dbutils.fs.ls('/Volumes/digital_funnel/landing/dataset_volume'):\n",
    "##    table_name = file_info.name.split(\".\")[0].rstrip('/')\n",
    "##    table_names.append(table_name)\n",
    "    \n",
    "##for i in table_names:\n",
    "##    dbutils.fs.mv(\"/Volumes/digital_funnel/landing/dataset_volume/{name}.csv\", \"abfss://bronze@firstprojectdlucext.dfs.core.windows.net/old_files/\""
   ]
  }
 ],
 "metadata": {
  "application/vnd.databricks.v1+notebook": {
   "computePreferences": null,
   "dashboards": [],
   "environmentMetadata": {
    "base_environment": "",
    "environment_version": "2"
   },
   "inputWidgetPreferences": null,
   "language": "python",
   "notebookMetadata": {
    "mostRecentlyExecutedCommandWithImplicitDF": {
     "commandId": 5863375700766535,
     "dataframes": [
      "_sqldf"
     ]
    },
    "pythonIndentUnit": 4
   },
   "notebookName": "1.lanfing",
   "widgets": {}
  },
  "language_info": {
   "name": "python"
  }
 },
 "nbformat": 4,
 "nbformat_minor": 0
}
