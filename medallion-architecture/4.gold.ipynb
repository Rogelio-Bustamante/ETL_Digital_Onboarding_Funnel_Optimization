{
 "cells": [
  {
   "cell_type": "markdown",
   "metadata": {
    "application/vnd.databricks.v1+cell": {
     "cellMetadata": {},
     "inputWidgets": {},
     "nuid": "3a1fd38d-7a3e-46de-8d27-5cfc25125028",
     "showTitle": false,
     "tableResultSettingsMap": {},
     "title": ""
    }
   },
   "source": [
    "##Analytic Model"
   ]
  },
  {
   "cell_type": "code",
   "execution_count": 0,
   "metadata": {
    "application/vnd.databricks.v1+cell": {
     "cellMetadata": {
      "byteLimit": 2048000,
      "rowLimit": 10000
     },
     "inputWidgets": {},
     "nuid": "b0dd5833-f033-41f6-b993-b3f88acfb232",
     "showTitle": false,
     "tableResultSettingsMap": {},
     "title": ""
    }
   },
   "outputs": [],
   "source": [
    "---Clients amount per country that finished the process\n",
    "SELECT estado, COUNT(*) AS total_clientes\n",
    "  FROM digital_funnel.gold.pv_clientesfunnel\n",
    " WHERE proceso_completo = 1\n",
    "GROUP BY estado\n",
    "ORDER BY estado;"
   ]
  },
  {
   "cell_type": "code",
   "execution_count": 0,
   "metadata": {
    "application/vnd.databricks.v1+cell": {
     "cellMetadata": {
      "byteLimit": 2048000,
      "rowLimit": 10000
     },
     "inputWidgets": {},
     "nuid": "38ed306a-d658-42ec-9c0e-838db3b45d67",
     "showTitle": false,
     "tableResultSettingsMap": {},
     "title": ""
    }
   },
   "outputs": [],
   "source": [
    "---Clients amount per country that didn't finis the process\n",
    "SELECT estado, COUNT(*) AS total_clientes\n",
    "  FROM digital_funnel.gold.pv_clientesfunnel\n",
    " WHERE proceso_completo = 0\n",
    "GROUP BY estado\n",
    "ORDER BY estado;"
   ]
  },
  {
   "cell_type": "code",
   "execution_count": 0,
   "metadata": {
    "application/vnd.databricks.v1+cell": {
     "cellMetadata": {
      "byteLimit": 2048000,
      "rowLimit": 10000
     },
     "inputWidgets": {},
     "nuid": "3ff1257a-1b92-401f-a31c-59f7fdae7e5c",
     "showTitle": false,
     "tableResultSettingsMap": {},
     "title": ""
    }
   },
   "outputs": [],
   "source": [
    "---Clients amount per country that finished the process but has not all the stages (i.e. proceso_completo = 0)\n",
    "SELECT estado, COUNT(*) AS total_clientes\n",
    "  FROM digital_funnel.gold.pv_clientesfunnel\n",
    " WHERE proceso_completo = 0 AND confirmacion_de_datos IS NOT NULL\n",
    "GROUP BY estado\n",
    "ORDER BY estado;"
   ]
  },
  {
   "cell_type": "code",
   "execution_count": 0,
   "metadata": {
    "application/vnd.databricks.v1+cell": {
     "cellMetadata": {
      "byteLimit": 2048000,
      "rowLimit": 10000
     },
     "inputWidgets": {},
     "nuid": "37c55398-175e-4577-8677-95a3ec8a9bef",
     "showTitle": false,
     "tableResultSettingsMap": {},
     "title": ""
    }
   },
   "outputs": [],
   "source": [
    "---Abandonment per stage\n",
    "SELECT COUNT(CASE WHEN introduccion IS NOT NULL AND\n",
    "                        solicitud_de_datos IS NULL AND\n",
    "                        validacion_de_datos IS NULL AND\n",
    "                        reconocimiento_facial IS NULL AND\n",
    "                        firma IS NULL AND\n",
    "                        confirmacion_de_datos IS NULL \n",
    "                  THEN 1 END) AS TI,\n",
    "       COUNT(CASE WHEN  solicitud_de_datos IS NOT NULL AND\n",
    "                        validacion_de_datos IS NULL AND\n",
    "                        reconocimiento_facial IS NULL AND\n",
    "                        firma IS NULL AND\n",
    "                        confirmacion_de_datos IS NULL \n",
    "                  THEN 1 END) AS TSD,\n",
    "       COUNT(CASE WHEN  validacion_de_datos IS NOT NULL AND\n",
    "                        reconocimiento_facial IS NULL AND\n",
    "                        firma IS NULL AND\n",
    "                        confirmacion_de_datos IS NULL \n",
    "                  THEN 1 END) AS TVD,\n",
    "       COUNT(CASE WHEN  reconocimiento_facial IS NOT NULL AND\n",
    "                        firma IS NULL AND\n",
    "                        confirmacion_de_datos IS NULL \n",
    "                  THEN 1 END) AS TRF,\n",
    "       COUNT(CASE WHEN  firma IS NOT NULL AND\n",
    "                        confirmacion_de_datos IS NULL \n",
    "                  THEN 1 END) AS TF\n",
    "  FROM (SELECT * FROM digital_funnel.gold.pv_clientesfunnel WHERE proceso_completo = 0);"
   ]
  },
  {
   "cell_type": "code",
   "execution_count": 0,
   "metadata": {
    "application/vnd.databricks.v1+cell": {
     "cellMetadata": {
      "byteLimit": 2048000,
      "rowLimit": 10000
     },
     "inputWidgets": {},
     "nuid": "c9abf4d3-1b17-4f2b-a3ba-0482918a3357",
     "showTitle": false,
     "tableResultSettingsMap": {},
     "title": ""
    }
   },
   "outputs": [],
   "source": [
    "---Acarage per client to finish the process\n",
    "SELECT AVG(DATEDIFF(confirmacion_de_datos, introduccion)) AS avg_finish_stages\n",
    "  FROM digital_funnel.gold.pv_clientesfunnel\n",
    " WHERE proceso_completo = 1;"
   ]
  },
  {
   "cell_type": "markdown",
   "metadata": {
    "application/vnd.databricks.v1+cell": {
     "cellMetadata": {},
     "inputWidgets": {},
     "nuid": "185d2e6f-1cea-4c94-b13a-9b0f9f31fed5",
     "showTitle": false,
     "tableResultSettingsMap": {},
     "title": ""
    }
   },
   "source": [
    "##Convertion per state - Funnel model"
   ]
  },
  {
   "cell_type": "code",
   "execution_count": 0,
   "metadata": {
    "application/vnd.databricks.v1+cell": {
     "cellMetadata": {
      "byteLimit": 2048000,
      "rowLimit": 10000
     },
     "inputWidgets": {},
     "nuid": "efd8e8dc-1da1-471a-810c-b53a59d6635a",
     "showTitle": false,
     "tableResultSettingsMap": {},
     "title": ""
    }
   },
   "outputs": [],
   "source": [
    "SELECT * FROM digital_funnel.gold.clientesfunnel;"
   ]
  },
  {
   "cell_type": "code",
   "execution_count": 0,
   "metadata": {
    "application/vnd.databricks.v1+cell": {
     "cellMetadata": {
      "byteLimit": 2048000,
      "rowLimit": 10000
     },
     "inputWidgets": {},
     "nuid": "b9650b4f-37f5-48c6-840c-e60e260b7b89",
     "showTitle": false,
     "tableResultSettingsMap": {},
     "title": ""
    }
   },
   "outputs": [],
   "source": [
    "-- Clients per state\n",
    "SELECT estado, COUNT(*) AS total_clientes\n",
    "FROM digital_funnel.gold.pv_clientesfunnel\n",
    "GROUP BY estado\n",
    "ORDER BY estado;"
   ]
  },
  {
   "cell_type": "code",
   "execution_count": 0,
   "metadata": {
    "application/vnd.databricks.v1+cell": {
     "cellMetadata": {
      "byteLimit": 2048000,
      "rowLimit": 10000
     },
     "inputWidgets": {},
     "nuid": "07e2a625-266b-4755-b2a1-ec2fc70598de",
     "showTitle": false,
     "tableResultSettingsMap": {},
     "title": ""
    }
   },
   "outputs": [],
   "source": [
    "-- Total clients per stage (amount of clients that finished a stage)\n",
    "SELECT COUNT(*) AS TI,\n",
    "       COUNT(CASE WHEN solicitud_de_datos IS NOT NULL OR\n",
    "                       validacion_de_datos IS NOT NULL OR\n",
    "                       reconocimiento_facial IS NOT NULL OR\n",
    "                       firma IS NOT NULL OR\n",
    "                       confirmacion_de_datos IS NOT NULL \n",
    "                  THEN 1 END) AS TSD,\n",
    "       COUNT(CASE WHEN  validacion_de_datos IS NOT NULL OR\n",
    "                        reconocimiento_facial IS NOT NULL OR\n",
    "                        firma IS NOT NULL OR\n",
    "                        confirmacion_de_datos IS NOT NULL \n",
    "                  THEN 1 END) AS TVD,\n",
    "       COUNT(CASE WHEN  reconocimiento_facial IS NOT NULL OR\n",
    "                        firma IS NOT NULL OR\n",
    "                        confirmacion_de_datos IS NOT NULL \n",
    "                  THEN 1 END) AS TRF,\n",
    "       COUNT(CASE WHEN  firma IS NOT NULL OR\n",
    "                        confirmacion_de_datos IS NOT NULL \n",
    "                  THEN 1 END) AS TF,\n",
    "       COUNT(CASE WHEN  confirmacion_de_datos IS NOT NULL \n",
    "                  THEN 1 END) AS TCD\n",
    "  FROM (SELECT * FROM digital_funnel.gold.pv_clientesfunnel);"
   ]
  },
  {
   "cell_type": "code",
   "execution_count": 0,
   "metadata": {
    "application/vnd.databricks.v1+cell": {
     "cellMetadata": {
      "byteLimit": 2048000,
      "rowLimit": 10000
     },
     "inputWidgets": {},
     "nuid": "e4e2e1d9-2c9f-45f4-97a6-b7a125d1dea7",
     "showTitle": false,
     "tableResultSettingsMap": {},
     "title": ""
    }
   },
   "outputs": [
    {
     "output_type": "display_data",
     "data": {
      "text/plain": [
       "Databricks visualization. Run in Databricks to view."
      ]
     },
     "metadata": {
      "application/vnd.databricks.v1.subcommand+json": {
       "baseErrorDetails": null,
       "bindings": {},
       "collapsed": false,
       "command": "-- Conversion per state (stage, amount, conversion)\n\n-- Define the amount of clients that finished a particlar stage \nWITH usuarios_por_estado AS (SELECT estado,\n       COUNT(*) AS TI,\n       COUNT(CASE WHEN solicitud_de_datos IS NOT NULL OR\n                       validacion_de_datos IS NOT NULL OR\n                       reconocimiento_facial IS NOT NULL OR\n                       firma IS NOT NULL OR\n                       confirmacion_de_datos IS NOT NULL \n                  THEN 1 END) AS TSD,\n       COUNT(CASE WHEN  validacion_de_datos IS NOT NULL OR\n                        reconocimiento_facial IS NOT NULL OR\n                        firma IS NOT NULL OR\n                        confirmacion_de_datos IS NOT NULL \n                  THEN 1 END) AS TVD,\n       COUNT(CASE WHEN  reconocimiento_facial IS NOT NULL OR\n                        firma IS NOT NULL OR\n                        confirmacion_de_datos IS NOT NULL \n                  THEN 1 END) AS TRF,\n       COUNT(CASE WHEN  firma IS NOT NULL OR\n                        confirmacion_de_datos IS NOT NULL \n                  THEN 1 END) AS TF,\n       COUNT(CASE WHEN  confirmacion_de_datos IS NOT NULL \n                  THEN 1 END) AS TCD\n  FROM digital_funnel.gold.pv_clientesfunnel\n  WHERE estado IN (SELECT estado\n                   FROM digital_funnel.gold.pv_clientesfunnel\n                   GROUP BY estado)\n  GROUP BY estado\n),\n\n-- Unpivot per stage\nusuarios_por_etapa AS (\n  SELECT estado, stage, total_usuarios\n  FROM (\n      SELECT estado, TI, TSD, TVD, TRF, TF, TCD\n      FROM usuarios_por_estado\n  ) AS src\n  UNPIVOT (\n      total_usuarios FOR stage IN (TI, TSD, TVD, TRF, TF, TCD)\n  ) AS unpvt\n)\n\n-- Calculate the conversion rate\nSELECT stage, \n       SUM(total_usuarios) AS total_by_stage,\n       ROUND(SUM(total_usuarios) * 100.0 / \n             (SELECT SUM(total_usuarios) \n              FROM usuarios_por_etapa \n              WHERE stage = 'TI'), 2) AS porcentaje_conversion\nFROM usuarios_por_etapa\nGROUP BY stage;",
       "commandTitle": "Funnel",
       "commandType": "auto",
       "commandVersion": 0,
       "commentThread": [],
       "commentsVisible": false,
       "contentSha256Hex": null,
       "customPlotOptions": {
        "redashChart": [
         {
          "key": "type",
          "value": "FUNNEL"
         },
         {
          "key": "options",
          "value": {
           "autoSort": false,
           "itemsLimit": 100,
           "numberFormat": "0,0.[00]",
           "percentFormat": "0[.]00%",
           "percentValuesRange": {
            "max": 1000,
            "min": 0.01
           },
           "sortKeyCol": {
            "colName": "total_by_stage",
            "reverse": true
           },
           "stepCol": {
            "colName": "stage",
            "displayAs": "Stage"
           },
           "valueCol": {
            "colName": "total_by_stage",
            "displayAs": "Total clients per stage"
           }
          }
         }
        ]
       },
       "datasetPreviewNameToCmdIdMap": {},
       "diffDeletes": [],
       "diffInserts": [],
       "displayType": "redashChart",
       "error": null,
       "errorDetails": null,
       "errorSummary": null,
       "errorTraceType": null,
       "finishTime": 0,
       "globalVars": {},
       "guid": "",
       "height": "auto",
       "hideCommandCode": false,
       "hideCommandResult": false,
       "iPythonMetadata": null,
       "inputWidgets": {},
       "isLockedInExamMode": false,
       "latestUser": "a user",
       "latestUserId": null,
       "listResultMetadata": null,
       "metadata": {},
       "nuid": "08fbcc62-e2e5-4193-95dc-25ab2a9721d0",
       "origId": 0,
       "parentHierarchy": [],
       "pivotAggregation": null,
       "pivotColumns": null,
       "position": 1.0,
       "resultDbfsErrorMessage": null,
       "resultDbfsStatus": "INLINED_IN_TREE",
       "results": null,
       "showCommandTitle": false,
       "startTime": 0,
       "state": "input",
       "streamStates": {},
       "subcommandOptions": {},
       "submitTime": 0,
       "subtype": "tableResultSubCmd.visualization",
       "tableResultIndex": 0,
       "tableResultSettingsMap": {},
       "useConsistentColors": false,
       "version": "CommandV1",
       "width": "auto",
       "workflows": null,
       "xColumns": null,
       "yColumns": null
      }
     },
     "output_type": "display_data"
    }
   ],
   "source": [
    "-- Conversion per state (stage, amount, conversion)\n",
    "\n",
    "-- Define the amount of clients that finished a particlar stage \n",
    "WITH usuarios_por_estado AS (SELECT estado,\n",
    "       COUNT(*) AS TI,\n",
    "       COUNT(CASE WHEN solicitud_de_datos IS NOT NULL OR\n",
    "                       validacion_de_datos IS NOT NULL OR\n",
    "                       reconocimiento_facial IS NOT NULL OR\n",
    "                       firma IS NOT NULL OR\n",
    "                       confirmacion_de_datos IS NOT NULL \n",
    "                  THEN 1 END) AS TSD,\n",
    "       COUNT(CASE WHEN  validacion_de_datos IS NOT NULL OR\n",
    "                        reconocimiento_facial IS NOT NULL OR\n",
    "                        firma IS NOT NULL OR\n",
    "                        confirmacion_de_datos IS NOT NULL \n",
    "                  THEN 1 END) AS TVD,\n",
    "       COUNT(CASE WHEN  reconocimiento_facial IS NOT NULL OR\n",
    "                        firma IS NOT NULL OR\n",
    "                        confirmacion_de_datos IS NOT NULL \n",
    "                  THEN 1 END) AS TRF,\n",
    "       COUNT(CASE WHEN  firma IS NOT NULL OR\n",
    "                        confirmacion_de_datos IS NOT NULL \n",
    "                  THEN 1 END) AS TF,\n",
    "       COUNT(CASE WHEN  confirmacion_de_datos IS NOT NULL \n",
    "                  THEN 1 END) AS TCD\n",
    "  FROM digital_funnel.gold.pv_clientesfunnel\n",
    "  WHERE estado IN (SELECT estado\n",
    "                   FROM digital_funnel.gold.pv_clientesfunnel\n",
    "                   GROUP BY estado)\n",
    "  GROUP BY estado\n",
    "),\n",
    "\n",
    "-- Unpivot per stage\n",
    "usuarios_por_etapa AS (\n",
    "  SELECT estado, stage, total_usuarios\n",
    "  FROM (\n",
    "      SELECT estado, TI, TSD, TVD, TRF, TF, TCD\n",
    "      FROM usuarios_por_estado\n",
    "  ) AS src\n",
    "  UNPIVOT (\n",
    "      total_usuarios FOR stage IN (TI, TSD, TVD, TRF, TF, TCD)\n",
    "  ) AS unpvt\n",
    ")\n",
    "\n",
    "-- Calculate the conversion rate\n",
    "SELECT stage, \n",
    "       SUM(total_usuarios) AS total_by_stage,\n",
    "       ROUND(SUM(total_usuarios) * 100.0 / \n",
    "             (SELECT SUM(total_usuarios) \n",
    "              FROM usuarios_por_etapa \n",
    "              WHERE stage = 'TI'), 2) AS porcentaje_conversion\n",
    "FROM usuarios_por_etapa\n",
    "GROUP BY stage\n",
    "ORDER BY porcentaje_conversion DESC;"
   ]
  },
  {
   "cell_type": "code",
   "execution_count": 0,
   "metadata": {
    "application/vnd.databricks.v1+cell": {
     "cellMetadata": {
      "byteLimit": 2048000,
      "rowLimit": 10000
     },
     "inputWidgets": {},
     "nuid": "bf55e335-931c-4405-9c28-fec0056ecaba",
     "showTitle": false,
     "tableResultSettingsMap": {},
     "title": ""
    }
   },
   "outputs": [
    {
     "output_type": "display_data",
     "data": {
      "text/plain": [
       "Databricks visualization. Run in Databricks to view."
      ]
     },
     "metadata": {
      "application/vnd.databricks.v1.subcommand+json": {
       "baseErrorDetails": null,
       "bindings": {},
       "collapsed": false,
       "command": "-- Conversion per state (state, stage, amount, conversion)\n\n-- Define the amount of clients that finished a particlar stage \nWITH usuarios_por_estado AS (SELECT estado,\n       COUNT(*) AS TI,\n       COUNT(CASE WHEN solicitud_de_datos IS NOT NULL OR\n                       validacion_de_datos IS NOT NULL OR\n                       reconocimiento_facial IS NOT NULL OR\n                       firma IS NOT NULL OR\n                       confirmacion_de_datos IS NOT NULL \n                  THEN 1 END) AS TSD,\n       COUNT(CASE WHEN  validacion_de_datos IS NOT NULL OR\n                        reconocimiento_facial IS NOT NULL OR\n                        firma IS NOT NULL OR\n                        confirmacion_de_datos IS NOT NULL \n                  THEN 1 END) AS TVD,\n       COUNT(CASE WHEN  reconocimiento_facial IS NOT NULL OR\n                        firma IS NOT NULL OR\n                        confirmacion_de_datos IS NOT NULL \n                  THEN 1 END) AS TRF,\n       COUNT(CASE WHEN  firma IS NOT NULL OR\n                        confirmacion_de_datos IS NOT NULL \n                  THEN 1 END) AS TF,\n       COUNT(CASE WHEN  confirmacion_de_datos IS NOT NULL \n                  THEN 1 END) AS TCD\n  FROM digital_funnel.gold.pv_clientesfunnel\n  WHERE estado IN (SELECT estado\n                   FROM digital_funnel.gold.pv_clientesfunnel\n                   GROUP BY estado)\n  GROUP BY estado\n),\n\n-- Unpivot per stage\nusuarios_por_etapa AS (\n  SELECT estado, stage, total_usuarios\n  FROM (\n      SELECT estado, TI, TSD, TVD, TRF, TF, TCD\n      FROM usuarios_por_estado\n  ) AS src\n  UNPIVOT (\n      total_usuarios FOR stage IN (TI, TSD, TVD, TRF, TF, TCD)\n  ) AS unpvt\n)\n\n-- Calculate the conversion rate\nSELECT a.estado, \n       a.stage, \n       a.total_usuarios,\n       ROUND((a.total_usuarios * 100.0 / b.total_usuarios), 2) AS porcentaje_conversion\nFROM usuarios_por_etapa AS a\nJOIN usuarios_por_etapa AS b\nON (a.estado = b.estado AND b.stage = 'TI')\nORDER BY a.estado;",
       "commandTitle": "Visualization 1",
       "commandType": "auto",
       "commandVersion": 0,
       "commentThread": [],
       "commentsVisible": false,
       "contentSha256Hex": null,
       "customPlotOptions": {
        "redashChart": [
         {
          "key": "type",
          "value": "FUNNEL"
         },
         {
          "key": "options",
          "value": {
           "autoSort": false,
           "itemsLimit": 100,
           "numberFormat": "0,0.[00]",
           "percentFormat": "0[.]00%",
           "percentValuesRange": {
            "max": 1000,
            "min": 0.01
           },
           "sortKeyCol": {
            "colName": "total_usuarios",
            "reverse": true
           },
           "stepCol": {
            "colName": "stage",
            "displayAs": "Steps"
           },
           "valueCol": {
            "colName": "total_usuarios",
            "displayAs": "Value"
           }
          }
         }
        ]
       },
       "datasetPreviewNameToCmdIdMap": {},
       "diffDeletes": [],
       "diffInserts": [],
       "displayType": "redashChart",
       "error": null,
       "errorDetails": null,
       "errorSummary": null,
       "errorTraceType": null,
       "finishTime": 0,
       "globalVars": {},
       "guid": "",
       "height": "auto",
       "hideCommandCode": false,
       "hideCommandResult": false,
       "iPythonMetadata": null,
       "inputWidgets": {},
       "isLockedInExamMode": false,
       "latestUser": "a user",
       "latestUserId": null,
       "listResultMetadata": null,
       "metadata": {},
       "nuid": "96796da2-1fee-457a-8fa2-e4d1ee99feb4",
       "origId": 0,
       "parentHierarchy": [],
       "pivotAggregation": null,
       "pivotColumns": null,
       "position": 16.0,
       "resultDbfsErrorMessage": null,
       "resultDbfsStatus": "INLINED_IN_TREE",
       "results": null,
       "showCommandTitle": false,
       "startTime": 0,
       "state": "input",
       "streamStates": {},
       "subcommandOptions": {},
       "submitTime": 0,
       "subtype": "tableResultSubCmd.visualization",
       "tableResultIndex": 0,
       "tableResultSettingsMap": {},
       "useConsistentColors": false,
       "version": "CommandV1",
       "width": "auto",
       "workflows": null,
       "xColumns": null,
       "yColumns": null
      }
     },
     "output_type": "display_data"
    }
   ],
   "source": [
    "-- Conversion per state (state, stage, amount, conversion)\n",
    "\n",
    "-- Define the amount of clients that finished a particlar stage \n",
    "WITH usuarios_por_estado AS (SELECT estado,\n",
    "       COUNT(*) AS TI,\n",
    "       COUNT(CASE WHEN solicitud_de_datos IS NOT NULL OR\n",
    "                       validacion_de_datos IS NOT NULL OR\n",
    "                       reconocimiento_facial IS NOT NULL OR\n",
    "                       firma IS NOT NULL OR\n",
    "                       confirmacion_de_datos IS NOT NULL \n",
    "                  THEN 1 END) AS TSD,\n",
    "       COUNT(CASE WHEN  validacion_de_datos IS NOT NULL OR\n",
    "                        reconocimiento_facial IS NOT NULL OR\n",
    "                        firma IS NOT NULL OR\n",
    "                        confirmacion_de_datos IS NOT NULL \n",
    "                  THEN 1 END) AS TVD,\n",
    "       COUNT(CASE WHEN  reconocimiento_facial IS NOT NULL OR\n",
    "                        firma IS NOT NULL OR\n",
    "                        confirmacion_de_datos IS NOT NULL \n",
    "                  THEN 1 END) AS TRF,\n",
    "       COUNT(CASE WHEN  firma IS NOT NULL OR\n",
    "                        confirmacion_de_datos IS NOT NULL \n",
    "                  THEN 1 END) AS TF,\n",
    "       COUNT(CASE WHEN  confirmacion_de_datos IS NOT NULL \n",
    "                  THEN 1 END) AS TCD\n",
    "  FROM digital_funnel.gold.pv_clientesfunnel\n",
    "  WHERE estado IN (SELECT estado\n",
    "                   FROM digital_funnel.gold.pv_clientesfunnel\n",
    "                   GROUP BY estado)\n",
    "  GROUP BY estado\n",
    "),\n",
    "\n",
    "-- Unpivot per stage\n",
    "usuarios_por_etapa AS (\n",
    "  SELECT estado, stage, total_usuarios\n",
    "  FROM (\n",
    "      SELECT estado, TI, TSD, TVD, TRF, TF, TCD\n",
    "      FROM usuarios_por_estado\n",
    "  ) AS src\n",
    "  UNPIVOT (\n",
    "      total_usuarios FOR stage IN (TI, TSD, TVD, TRF, TF, TCD)\n",
    "  ) AS unpvt\n",
    ")\n",
    "\n",
    "-- Calculate the conversion rate\n",
    "SELECT a.estado, \n",
    "       a.stage, \n",
    "       a.total_usuarios,\n",
    "       ROUND((a.total_usuarios * 100.0 / b.total_usuarios), 2) AS porcentaje_conversion\n",
    "FROM usuarios_por_etapa AS a\n",
    "JOIN usuarios_por_etapa AS b\n",
    "ON (a.estado = b.estado AND b.stage = 'TI')\n",
    "ORDER BY a.estado;"
   ]
  },
  {
   "cell_type": "code",
   "execution_count": 0,
   "metadata": {
    "application/vnd.databricks.v1+cell": {
     "cellMetadata": {
      "byteLimit": 2048000,
      "rowLimit": 10000
     },
     "inputWidgets": {},
     "nuid": "1a23f8c2-0afc-43ac-9d1d-42fa9d9872e4",
     "showTitle": false,
     "tableResultSettingsMap": {
      "0": {
       "dataGridStateBlob": "{\"version\":1,\"tableState\":{\"columnPinning\":{\"left\":[\"#row_number#\"],\"right\":[]},\"columnSizing\":{},\"columnVisibility\":{}},\"settings\":{\"columns\":{}},\"syncTimestamp\":1752048299344}",
       "filterBlob": null,
       "queryPlanFiltersBlob": null,
       "tableResultIndex": 0
      }
     },
     "title": ""
    }
   },
   "outputs": [
    {
     "output_type": "display_data",
     "data": {
      "text/plain": [
       "Databricks visualization. Run in Databricks to view."
      ]
     },
     "metadata": {
      "application/vnd.databricks.v1.subcommand+json": {
       "baseErrorDetails": null,
       "bindings": {},
       "collapsed": false,
       "command": "WITH usuarios_por_estado AS (SELECT estado,\n       CASE\n         WHEN edad BETWEEN 18 AND 25 THEN '18–25'\n         WHEN edad BETWEEN 26 AND 35 THEN '26–35'\n         WHEN edad BETWEEN 36 AND 50 THEN '36–50'\n         ELSE '50+'\n       END AS edad_grupo,\n       COUNT(*) AS TI,\n       COUNT(CASE WHEN solicitud_de_datos IS NOT NULL OR\n                       validacion_de_datos IS NOT NULL OR\n                       reconocimiento_facial IS NOT NULL OR\n                       firma IS NOT NULL OR\n                       confirmacion_de_datos IS NOT NULL \n                  THEN 1 END) AS TSD,\n       COUNT(CASE WHEN  validacion_de_datos IS NOT NULL OR\n                        reconocimiento_facial IS NOT NULL OR\n                        firma IS NOT NULL OR\n                        confirmacion_de_datos IS NOT NULL \n                  THEN 1 END) AS TVD,\n       COUNT(CASE WHEN  reconocimiento_facial IS NOT NULL OR\n                        firma IS NOT NULL OR\n                        confirmacion_de_datos IS NOT NULL \n                  THEN 1 END) AS TRF,\n       COUNT(CASE WHEN  firma IS NOT NULL OR\n                        confirmacion_de_datos IS NOT NULL \n                  THEN 1 END) AS TF,\n       COUNT(CASE WHEN  confirmacion_de_datos IS NOT NULL \n                  THEN 1 END) AS TCD\n  FROM digital_funnel.gold.pv_clientesfunnel\n  WHERE estado IN (SELECT estado\n                   FROM digital_funnel.gold.pv_clientesfunnel\n                   GROUP BY estado)\n  GROUP BY estado, edad_grupo\n  ORDER BY estado, edad_grupo\n),\n\nusuarios_por_etapa AS (\n  SELECT estado, edad_grupo, stage, total_usuarios\n  FROM (\n      SELECT estado, edad_grupo, TI, TSD, TVD, TRF, TF, TCD\n      FROM usuarios_por_estado\n  ) AS src\n  UNPIVOT (\n      total_usuarios FOR stage IN (TI, TSD, TVD, TRF, TF, TCD)\n  ) AS unpvt\n),\n\nTI_per_edad_grupo AS (\n  SELECT estado,\n         stage,\n         SUM(total_usuarios) OVER (PARTITION BY estado, stage) AS total_TI \n  FROM usuarios_por_etapa\n  WHERE stage = 'TI'\n  ORDER BY estado, stage, edad_grupo\n)\nSELECT a.estado,\n       a.edad_grupo, \n       a.stage, \n       a.total_usuarios,\n       ROUND((a.total_usuarios * 100.0 / b.total_TI), 2) AS porcentaje_conversion\nFROM usuarios_por_etapa AS a\nJOIN \n(SELECT estado, \n        MAX(total_TI) AS total_TI\nFROM TI_per_edad_grupo\nGROUP BY estado) AS b\nON (a.estado = b.estado); \n",
       "commandTitle": "Visualization 1",
       "commandType": "auto",
       "commandVersion": 0,
       "commentThread": [],
       "commentsVisible": false,
       "contentSha256Hex": null,
       "customPlotOptions": {
        "redashChart": [
         {
          "key": "type",
          "value": "FUNNEL"
         },
         {
          "key": "options",
          "value": {
           "autoSort": true,
           "itemsLimit": 100,
           "numberFormat": "0,0.[00]",
           "percentFormat": "0[.]00%",
           "percentValuesRange": {
            "max": 1000,
            "min": 0.01
           },
           "sortKeyCol": {
            "colName": "porcentaje_conversion",
            "reverse": true
           },
           "stepCol": {
            "colName": "stage",
            "displayAs": "Steps"
           },
           "valueCol": {
            "colName": "porcentaje_conversion",
            "displayAs": "Value"
           }
          }
         }
        ]
       },
       "datasetPreviewNameToCmdIdMap": {},
       "diffDeletes": [],
       "diffInserts": [],
       "displayType": "redashChart",
       "error": null,
       "errorDetails": null,
       "errorSummary": null,
       "errorTraceType": null,
       "finishTime": 0,
       "globalVars": {},
       "guid": "",
       "height": "auto",
       "hideCommandCode": false,
       "hideCommandResult": false,
       "iPythonMetadata": null,
       "inputWidgets": {},
       "isLockedInExamMode": false,
       "latestUser": "a user",
       "latestUserId": null,
       "listResultMetadata": null,
       "metadata": {},
       "nuid": "f7b68f96-4d35-41a1-bbf2-add1c2685cff",
       "origId": 0,
       "parentHierarchy": [],
       "pivotAggregation": null,
       "pivotColumns": null,
       "position": 17.0,
       "resultDbfsErrorMessage": null,
       "resultDbfsStatus": "INLINED_IN_TREE",
       "results": null,
       "showCommandTitle": false,
       "startTime": 0,
       "state": "input",
       "streamStates": {},
       "subcommandOptions": {},
       "submitTime": 0,
       "subtype": "tableResultSubCmd.visualization",
       "tableResultIndex": 0,
       "tableResultSettingsMap": {},
       "useConsistentColors": false,
       "version": "CommandV1",
       "width": "auto",
       "workflows": null,
       "xColumns": null,
       "yColumns": null
      }
     },
     "output_type": "display_data"
    }
   ],
   "source": [
    "WITH usuarios_por_estado AS (SELECT estado,\n",
    "       CASE\n",
    "         WHEN edad BETWEEN 18 AND 25 THEN '18–25'\n",
    "         WHEN edad BETWEEN 26 AND 35 THEN '26–35'\n",
    "         WHEN edad BETWEEN 36 AND 50 THEN '36–50'\n",
    "         ELSE '50+'\n",
    "       END AS edad_grupo,\n",
    "       COUNT(*) AS TI,\n",
    "       COUNT(CASE WHEN solicitud_de_datos IS NOT NULL OR\n",
    "                       validacion_de_datos IS NOT NULL OR\n",
    "                       reconocimiento_facial IS NOT NULL OR\n",
    "                       firma IS NOT NULL OR\n",
    "                       confirmacion_de_datos IS NOT NULL \n",
    "                  THEN 1 END) AS TSD,\n",
    "       COUNT(CASE WHEN  validacion_de_datos IS NOT NULL OR\n",
    "                        reconocimiento_facial IS NOT NULL OR\n",
    "                        firma IS NOT NULL OR\n",
    "                        confirmacion_de_datos IS NOT NULL \n",
    "                  THEN 1 END) AS TVD,\n",
    "       COUNT(CASE WHEN  reconocimiento_facial IS NOT NULL OR\n",
    "                        firma IS NOT NULL OR\n",
    "                        confirmacion_de_datos IS NOT NULL \n",
    "                  THEN 1 END) AS TRF,\n",
    "       COUNT(CASE WHEN  firma IS NOT NULL OR\n",
    "                        confirmacion_de_datos IS NOT NULL \n",
    "                  THEN 1 END) AS TF,\n",
    "       COUNT(CASE WHEN  confirmacion_de_datos IS NOT NULL \n",
    "                  THEN 1 END) AS TCD\n",
    "  FROM digital_funnel.gold.pv_clientesfunnel\n",
    "  WHERE estado IN (SELECT estado\n",
    "                   FROM digital_funnel.gold.pv_clientesfunnel\n",
    "                   GROUP BY estado)\n",
    "  GROUP BY estado, edad_grupo\n",
    "  ORDER BY estado, edad_grupo\n",
    "),\n",
    "\n",
    "usuarios_por_etapa AS (\n",
    "  SELECT estado, edad_grupo, stage, total_usuarios\n",
    "  FROM (\n",
    "      SELECT estado, edad_grupo, TI, TSD, TVD, TRF, TF, TCD\n",
    "      FROM usuarios_por_estado\n",
    "  ) AS src\n",
    "  UNPIVOT (\n",
    "      total_usuarios FOR stage IN (TI, TSD, TVD, TRF, TF, TCD)\n",
    "  ) AS unpvt\n",
    "),\n",
    "\n",
    "TI_per_edad_grupo AS (\n",
    "  SELECT estado,\n",
    "         stage,\n",
    "         SUM(total_usuarios) OVER (PARTITION BY estado, stage) AS total_TI \n",
    "  FROM usuarios_por_etapa\n",
    "  WHERE stage = 'TI'\n",
    "  ORDER BY estado, stage, edad_grupo\n",
    ")\n",
    "SELECT a.estado,\n",
    "       a.edad_grupo, \n",
    "       a.stage, \n",
    "       a.total_usuarios,\n",
    "       ROUND((a.total_usuarios * 100.0 / b.total_TI), 2) AS porcentaje_conversion\n",
    "FROM usuarios_por_etapa AS a\n",
    "JOIN \n",
    "(SELECT estado, \n",
    "        MAX(total_TI) AS total_TI\n",
    "FROM TI_per_edad_grupo\n",
    "GROUP BY estado) AS b\n",
    "ON (a.estado = b.estado); \n"
   ]
  }
 ],
 "metadata": {
  "application/vnd.databricks.v1+notebook": {
   "computePreferences": null,
   "dashboards": [],
   "environmentMetadata": {
    "base_environment": "",
    "environment_version": "2"
   },
   "inputWidgetPreferences": null,
   "language": "sql",
   "notebookMetadata": {
    "pythonIndentUnit": 4
   },
   "notebookName": "4.gold",
   "widgets": {}
  },
  "language_info": {
   "name": "sql"
  }
 },
 "nbformat": 4,
 "nbformat_minor": 0
}
