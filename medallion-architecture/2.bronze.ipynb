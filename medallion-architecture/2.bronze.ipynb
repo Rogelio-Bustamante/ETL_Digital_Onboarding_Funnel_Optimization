{
 "cells": [
  {
   "cell_type": "markdown",
   "metadata": {
    "application/vnd.databricks.v1+cell": {
     "cellMetadata": {},
     "inputWidgets": {},
     "nuid": "77849d97-e263-4ece-b8a7-08593ac6b77d",
     "showTitle": false,
     "tableResultSettingsMap": {},
     "title": ""
    }
   },
   "source": [
    "##Data Tranformation"
   ]
  },
  {
   "cell_type": "markdown",
   "metadata": {
    "application/vnd.databricks.v1+cell": {
     "cellMetadata": {},
     "inputWidgets": {},
     "nuid": "88c875fb-e2de-4d38-a948-80df990d0157",
     "showTitle": false,
     "tableResultSettingsMap": {},
     "title": ""
    }
   },
   "source": [
    "####Create Table"
   ]
  },
  {
   "cell_type": "code",
   "execution_count": 0,
   "metadata": {
    "application/vnd.databricks.v1+cell": {
     "cellMetadata": {
      "byteLimit": 2048000,
      "rowLimit": 10000
     },
     "inputWidgets": {},
     "nuid": "b3f0a81b-4781-4ac8-87af-9c99fec283ea",
     "showTitle": false,
     "tableResultSettingsMap": {},
     "title": ""
    }
   },
   "outputs": [],
   "source": [
    "---DROP TABLE IF EXISTS digital_funnel.silver.FunnelData;\n",
    "---DROP TABLE IF EXISTS digital_funnel.silver.CatalogData;"
   ]
  },
  {
   "cell_type": "code",
   "execution_count": 0,
   "metadata": {
    "application/vnd.databricks.v1+cell": {
     "cellMetadata": {
      "byteLimit": 2048000,
      "rowLimit": 10000
     },
     "inputWidgets": {},
     "nuid": "a43817b5-eb3f-4bed-aead-4f10c05b5c86",
     "showTitle": false,
     "tableResultSettingsMap": {},
     "title": ""
    }
   },
   "outputs": [],
   "source": [
    "CREATE TABLE IF NOT EXISTS digital_funnel.silver.funneldata\n",
    "(\n",
    "  cliente_id STRING,\n",
    "  app STRING,\n",
    "  stage STRING,\n",
    "  stage_date DATE,\n",
    "  proceso_completo INT,\n",
    "  ingestion_time TIMESTAMP\n",
    ")\n",
    "LOCATION 'abfss://silver@firstprojectdlucext.dfs.core.windows.net/funneldata/';"
   ]
  },
  {
   "cell_type": "code",
   "execution_count": 0,
   "metadata": {
    "application/vnd.databricks.v1+cell": {
     "cellMetadata": {
      "byteLimit": 2048000,
      "rowLimit": 10000
     },
     "inputWidgets": {},
     "nuid": "14987744-ad7d-4051-a678-16e35ae064cd",
     "showTitle": false,
     "tableResultSettingsMap": {},
     "title": ""
    }
   },
   "outputs": [],
   "source": [
    "CREATE TABLE IF NOT EXISTS digital_funnel.silver.catalogdata\n",
    "(\n",
    "  cliente_id STRING,\n",
    "  nombre STRING,\n",
    "  edad INT,\n",
    "  estado STRING,\n",
    "  correo STRING,\n",
    "  ingestion_time TIMESTAMP,\n",
    "  updated_date TIMESTAMP \n",
    ")\n",
    "LOCATION 'abfss://silver@firstprojectdlucext.dfs.core.windows.net/catalogdata/';"
   ]
  },
  {
   "cell_type": "markdown",
   "metadata": {
    "application/vnd.databricks.v1+cell": {
     "cellMetadata": {},
     "inputWidgets": {},
     "nuid": "4d8ea53a-d1fc-485f-93b7-ccb39f7090e5",
     "showTitle": false,
     "tableResultSettingsMap": {},
     "title": ""
    }
   },
   "source": [
    "####Edit columns"
   ]
  },
  {
   "cell_type": "code",
   "execution_count": 0,
   "metadata": {
    "application/vnd.databricks.v1+cell": {
     "cellMetadata": {
      "byteLimit": 2048000,
      "rowLimit": 10000
     },
     "inputWidgets": {},
     "nuid": "7256e480-b3ad-4130-a21c-c4aef9df8304",
     "showTitle": false,
     "tableResultSettingsMap": {},
     "title": ""
    }
   },
   "outputs": [],
   "source": [
    "CREATE OR REPLACE TEMP VIEW FunnelIncrement\n",
    "AS\n",
    "SELECT ID_cliente AS cliente_id,\n",
    "       APP AS app,\n",
    "       stage,\n",
    "       Date AS stage_date,\n",
    "       Proceso_completo AS proceso_completo\n",
    "FROM digital_funnel.bronze.usuarios_banco_con_funnel;"
   ]
  },
  {
   "cell_type": "code",
   "execution_count": 0,
   "metadata": {
    "application/vnd.databricks.v1+cell": {
     "cellMetadata": {
      "byteLimit": 2048000,
      "rowLimit": 10000
     },
     "inputWidgets": {},
     "nuid": "1c0d7adb-8c9c-405e-aa76-0644600b8970",
     "showTitle": false,
     "tableResultSettingsMap": {},
     "title": ""
    }
   },
   "outputs": [],
   "source": [
    "CREATE OR REPLACE TEMP VIEW CatalogIncrement\n",
    "AS\n",
    "SELECT ID_cliente AS cliente_id,\n",
    "       Nombre AS nombre,\n",
    "       Correo AS correo,\n",
    "       Edad AS edad,\n",
    "       Estado AS estado\n",
    "FROM digital_funnel.bronze.clientes;"
   ]
  },
  {
   "cell_type": "markdown",
   "metadata": {
    "application/vnd.databricks.v1+cell": {
     "cellMetadata": {},
     "inputWidgets": {},
     "nuid": "6b9a109d-2755-4afd-ab2d-ddc304c8e356",
     "showTitle": false,
     "tableResultSettingsMap": {},
     "title": ""
    }
   },
   "source": [
    "####Ingestig into silver "
   ]
  },
  {
   "cell_type": "code",
   "execution_count": 0,
   "metadata": {
    "application/vnd.databricks.v1+cell": {
     "cellMetadata": {
      "byteLimit": 2048000,
      "rowLimit": 10000
     },
     "inputWidgets": {},
     "nuid": "93bc19ed-4f35-4b91-89dc-64b2dcd3c58a",
     "showTitle": false,
     "tableResultSettingsMap": {},
     "title": ""
    }
   },
   "outputs": [],
   "source": [
    "MERGE INTO digital_funnel.silver.funneldata  AS tgt\n",
    "USING FunnelIncrement AS src\n",
    "ON (tgt.cliente_id = src.cliente_id AND tgt.stage = src.stage)\n",
    "WHEN NOT MATCHED THEN\n",
    "  INSERT (tgt.cliente_id, tgt.app, tgt.stage, tgt.stage_date, tgt.proceso_completo, tgt.ingestion_time)\n",
    "  VALUES (src.cliente_id, src.app, src.stage, src.stage_date, src.proceso_completo, current_timestamp)\n",
    "---PARTITIONED BY (race_year)"
   ]
  },
  {
   "cell_type": "code",
   "execution_count": 0,
   "metadata": {
    "application/vnd.databricks.v1+cell": {
     "cellMetadata": {
      "byteLimit": 2048000,
      "rowLimit": 10000
     },
     "inputWidgets": {},
     "nuid": "7a2b2102-fe1a-4b58-a8b7-ec97408f7dd5",
     "showTitle": false,
     "tableResultSettingsMap": {},
     "title": ""
    }
   },
   "outputs": [],
   "source": [
    "MERGE INTO digital_funnel.silver.catalogdata  AS tgt\n",
    "USING CatalogIncrement AS src\n",
    "ON (tgt.cliente_id = src.cliente_id)\n",
    "WHEN MATCHED THEN\n",
    "  UPDATE SET tgt.nombre = src.nombre,\n",
    "             tgt.correo = src.correo,\n",
    "             tgt.edad = src.edad,\n",
    "             tgt.estado = src.estado,\n",
    "             tgt.updated_date = current_timestamp\n",
    "WHEN NOT MATCHED THEN\n",
    "  INSERT (tgt.cliente_id, tgt.nombre, tgt.correo, tgt.edad, tgt.estado, tgt.ingestion_time)\n",
    "  VALUES (src.cliente_id, src.nombre, src.correo, src.edad, src.estado, current_timestamp)"
   ]
  },
  {
   "cell_type": "code",
   "execution_count": 0,
   "metadata": {
    "application/vnd.databricks.v1+cell": {
     "cellMetadata": {
      "byteLimit": 2048000,
      "rowLimit": 10000
     },
     "inputWidgets": {},
     "nuid": "900474bf-6922-43a9-8173-ace66feb7060",
     "showTitle": false,
     "tableResultSettingsMap": {},
     "title": ""
    }
   },
   "outputs": [],
   "source": [
    "SELECT *\n",
    "FROM digital_funnel.silver.CatalogData;"
   ]
  }
 ],
 "metadata": {
  "application/vnd.databricks.v1+notebook": {
   "computePreferences": null,
   "dashboards": [],
   "environmentMetadata": {
    "base_environment": "",
    "environment_version": "2"
   },
   "inputWidgetPreferences": null,
   "language": "sql",
   "notebookMetadata": {
    "pythonIndentUnit": 4
   },
   "notebookName": "2.bronze",
   "widgets": {}
  },
  "language_info": {
   "name": "sql"
  }
 },
 "nbformat": 4,
 "nbformat_minor": 0
}
