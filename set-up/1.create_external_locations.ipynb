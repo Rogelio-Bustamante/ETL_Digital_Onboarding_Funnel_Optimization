{
 "cells": [
  {
   "cell_type": "code",
   "execution_count": 0,
   "metadata": {
    "application/vnd.databricks.v1+cell": {
     "cellMetadata": {
      "byteLimit": 2048000,
      "rowLimit": 10000
     },
     "inputWidgets": {},
     "nuid": "57356eda-b07d-4d4a-a39b-78936c98d1ee",
     "showTitle": false,
     "tableResultSettingsMap": {},
     "title": ""
    }
   },
   "outputs": [],
   "source": [
    "\n",
    "CREATE EXTERNAL LOCATION IF NOT EXISTS firstprojectdlucext_landing\n",
    "URL 'abfss://landing@firstprojectdlucext.dfs.core.windows.net/'\n",
    "WITH (STORAGE CREDENTIAL `databricks-firstproject-ext-storage-credential`);"
   ]
  },
  {
   "cell_type": "code",
   "execution_count": 0,
   "metadata": {
    "application/vnd.databricks.v1+cell": {
     "cellMetadata": {
      "byteLimit": 2048000,
      "rowLimit": 10000
     },
     "inputWidgets": {},
     "nuid": "18f49f07-df97-49c2-9491-7b98af7d936b",
     "showTitle": false,
     "tableResultSettingsMap": {},
     "title": ""
    }
   },
   "outputs": [],
   "source": [
    "CREATE EXTERNAL LOCATION IF NOT EXISTS firstprojectdlucext_bronze\n",
    "URL 'abfss://bronze@firstprojectdlucext.dfs.core.windows.net/'\n",
    "WITH (STORAGE CREDENTIAL `databricks-firstproject-ext-storage-credential`);"
   ]
  },
  {
   "cell_type": "code",
   "execution_count": 0,
   "metadata": {
    "application/vnd.databricks.v1+cell": {
     "cellMetadata": {
      "byteLimit": 2048000,
      "rowLimit": 10000
     },
     "inputWidgets": {},
     "nuid": "eb9d087e-973b-4f6e-9dd8-03c87c864a82",
     "showTitle": false,
     "tableResultSettingsMap": {},
     "title": ""
    }
   },
   "outputs": [],
   "source": [
    "CREATE EXTERNAL LOCATION IF NOT EXISTS firstprojectdlucext_silver\n",
    "URL 'abfss://silver@firstprojectdlucext.dfs.core.windows.net/'\n",
    "WITH (STORAGE CREDENTIAL `databricks-firstproject-ext-storage-credential`);"
   ]
  },
  {
   "cell_type": "code",
   "execution_count": 0,
   "metadata": {
    "application/vnd.databricks.v1+cell": {
     "cellMetadata": {
      "byteLimit": 2048000,
      "rowLimit": 10000
     },
     "inputWidgets": {},
     "nuid": "2e44dbc0-a551-4ada-be39-9c228ddf44b5",
     "showTitle": false,
     "tableResultSettingsMap": {},
     "title": ""
    }
   },
   "outputs": [],
   "source": [
    "CREATE EXTERNAL LOCATION IF NOT EXISTS firstprojectdlucext_gold\n",
    "URL 'abfss://gold@firstprojectdlucext.dfs.core.windows.net/'\n",
    "WITH (STORAGE CREDENTIAL `databricks-firstproject-ext-storage-credential`);"
   ]
  },
  {
   "cell_type": "code",
   "execution_count": 0,
   "metadata": {
    "application/vnd.databricks.v1+cell": {
     "cellMetadata": {
      "byteLimit": 2048000,
      "rowLimit": 10000
     },
     "inputWidgets": {},
     "nuid": "cced977c-19ce-42e2-995a-5a71114ef1f4",
     "showTitle": false,
     "tableResultSettingsMap": {},
     "title": ""
    }
   },
   "outputs": [],
   "source": [
    "%fs\n",
    "ls 'abfss://landing@firstprojectdlucext.dfs.core.windows.net/data'"
   ]
  },
  {
   "cell_type": "code",
   "execution_count": 0,
   "metadata": {
    "application/vnd.databricks.v1+cell": {
     "cellMetadata": {
      "byteLimit": 2048000,
      "rowLimit": 10000
     },
     "inputWidgets": {},
     "nuid": "2109092f-45fa-4f33-9046-dd4be3b22238",
     "showTitle": false,
     "tableResultSettingsMap": {},
     "title": ""
    }
   },
   "outputs": [],
   "source": [
    "DESCRIBE EXTERNAL LOCATION firstprojectdlucext_landing;"
   ]
  }
 ],
 "metadata": {
  "application/vnd.databricks.v1+notebook": {
   "computePreferences": null,
   "dashboards": [],
   "environmentMetadata": {
    "base_environment": "",
    "environment_version": "2"
   },
   "inputWidgetPreferences": null,
   "language": "sql",
   "notebookMetadata": {
    "mostRecentlyExecutedCommandWithImplicitDF": {
     "commandId": 8571195304854602,
     "dataframes": [
      "_sqldf"
     ]
    },
    "pythonIndentUnit": 4
   },
   "notebookName": "1.create_external_locations",
   "widgets": {}
  },
  "language_info": {
   "name": "sql"
  }
 },
 "nbformat": 4,
 "nbformat_minor": 0
}
