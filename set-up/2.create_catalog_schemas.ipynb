{
 "cells": [
  {
   "cell_type": "code",
   "execution_count": 0,
   "metadata": {
    "application/vnd.databricks.v1+cell": {
     "cellMetadata": {
      "byteLimit": 2048000,
      "rowLimit": 10000
     },
     "inputWidgets": {},
     "nuid": "4e47bec9-3a6f-411c-a9c6-8d87939f3e2b",
     "showTitle": false,
     "tableResultSettingsMap": {},
     "title": ""
    }
   },
   "outputs": [],
   "source": [
    "CREATE CATALOG IF NOT EXISTS digital_funnel;\n",
    "--DROP CATALOG IF EXISTS funnel CASCADE;"
   ]
  },
  {
   "cell_type": "code",
   "execution_count": 0,
   "metadata": {
    "application/vnd.databricks.v1+cell": {
     "cellMetadata": {
      "byteLimit": 2048000,
      "rowLimit": 10000
     },
     "inputWidgets": {},
     "nuid": "eaaee303-7e70-45c4-a2fa-00e3ca6de97b",
     "showTitle": false,
     "tableResultSettingsMap": {},
     "title": ""
    }
   },
   "outputs": [],
   "source": [
    "USE CATALOG digital_funnel;\n",
    "\n",
    "CREATE SCHEMA IF NOT EXISTS landing\n",
    "MANAGED LOCATION 'abfss://landing@firstprojectdlucext.dfs.core.windows.net/';\n",
    "\n",
    "CREATE SCHEMA IF NOT EXISTS bronze\n",
    "MANAGED LOCATION 'abfss://bronze@firstprojectdlucext.dfs.core.windows.net/';\n",
    "\n",
    "CREATE SCHEMA IF NOT EXISTS silver\n",
    "MANAGED LOCATION 'abfss://silver@firstprojectdlucext.dfs.core.windows.net/';\n",
    "\n",
    "CREATE SCHEMA IF NOT EXISTS gold\n",
    "MANAGED LOCATION 'abfss://gold@firstprojectdlucext.dfs.core.windows.net/';\n",
    "\n",
    "--DROP SCHEMA IF EXISTS landing CASCADE;\n",
    "--DROP SCHEMA IF EXISTS bronze CASCADE;\n",
    "--DROP SCHEMA IF EXISTS silver CASCADE;\n",
    "--DROP SCHEMA IF EXISTS gold CASCADE;\n",
    "\n",
    "SHOW SCHEMAS;"
   ]
  }
 ],
 "metadata": {
  "application/vnd.databricks.v1+notebook": {
   "computePreferences": null,
   "dashboards": [],
   "environmentMetadata": {
    "base_environment": "",
    "environment_version": "2"
   },
   "inputWidgetPreferences": null,
   "language": "sql",
   "notebookMetadata": {
    "pythonIndentUnit": 4
   },
   "notebookName": "2.create_catalog_schemas",
   "widgets": {}
  },
  "language_info": {
   "name": "sql"
  }
 },
 "nbformat": 4,
 "nbformat_minor": 0
}
